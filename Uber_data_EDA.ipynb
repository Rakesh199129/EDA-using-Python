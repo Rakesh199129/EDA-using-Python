{
 "cells": [
  {
   "cell_type": "code",
   "execution_count": 1,
   "metadata": {},
   "outputs": [],
   "source": [
    "import pandas as pd\n",
    "import numpy as np\n",
    "import seaborn as sb\n",
    "from datetime import datetime"
   ]
  },
  {
   "cell_type": "code",
   "execution_count": 2,
   "metadata": {},
   "outputs": [],
   "source": [
    "uber_db=pd.read_csv(r'C:\\Users\\mahe\\Desktop\\Upgrad\\EDA statistics and Visualization\\Uber case study\\Uber Request Data.csv')"
   ]
  },
  {
   "cell_type": "code",
   "execution_count": 5,
   "metadata": {},
   "outputs": [
    {
     "data": {
      "text/plain": [
       "Request id             int64\n",
       "Pickup point          object\n",
       "Driver id            float64\n",
       "Status                object\n",
       "Request timestamp     object\n",
       "Drop timestamp        object\n",
       "dtype: object"
      ]
     },
     "execution_count": 5,
     "metadata": {},
     "output_type": "execute_result"
    }
   ],
   "source": [
    "#Check for datatpes\n",
    "uber_db.dtypes"
   ]
  },
  {
   "cell_type": "code",
   "execution_count": null,
   "metadata": {},
   "outputs": [],
   "source": [
    "#Remove unwanted tabs and spaces in Request Time stamp and Drop Time stamp\n",
    "uber_db['Request timestamp']=uber_db['Request timestamp'].astype(str).apply(lambda x: x.strip())\n",
    "uber_db['Drop timestamp']=uber_db['Drop timestamp'].astype(str).apply(lambda x: x.strip())\n",
    "uber_db.head(20)"
   ]
  },
  {
   "cell_type": "code",
   "execution_count": null,
   "metadata": {},
   "outputs": [],
   "source": [
    "#Cleaning data using function cleantimestamp\n",
    "uber_db['Request timestamp']=uber_db['Request timestamp'].astype(str).apply(lambda x: x.replace('/','-'))\n",
    "import re\n",
    "def clean_timestamp(timestamp):\n",
    "        #print(timestamp)\n",
    "        if timestamp == 'nan':\n",
    "            return timestamp\n",
    "        reg_search = re.search(r'''(?P<day>[\\d]+)-(?P<month>[\\d]+)-(?P<year>[\\d]+) (?P<hour>[\\d]+):(?P<mins>[\\d]+)''',\n",
    "                               timestamp)\n",
    "        res = reg_search.groupdict()\n",
    "        if len(res['month'])  == 1:\n",
    "            res['month'] = '0{}'.format(res['month'])\n",
    "        if len(res['day'])  == 1:\n",
    "            res['day'] = '0{}'.format(res['day'])\n",
    "        new_timestamp = '{}-{}-{} {}:{}'.format(res['day'], res['month'], res['year'], res['hour'], res['mins'])\n",
    "        new_timestamp = datetime.strptime(new_timestamp,'%d-%m-%Y %H:%M')\n",
    "        return new_timestamp\n",
    "\n",
    "uber_db['Request timestamp']=uber_db['Request timestamp'].apply(lambda x : clean_timestamp(x))\n",
    "uber_db.head(200)"
   ]
  },
  {
   "cell_type": "code",
   "execution_count": null,
   "metadata": {},
   "outputs": [],
   "source": [
    "#Replacing / by - for standardising the data\n",
    "uber_db['Drop timestamp']=uber_db['Drop timestamp'].astype(str).apply(lambda x: x.replace('/', '-'))\n",
    "print('Updting the drop timestamp')\n",
    "uber_db['Drop timestamp']=uber_db['Drop timestamp'].apply(lambda x : clean_timestamp(x))\n",
    "\n",
    "uber_db.head(20)"
   ]
  },
  {
   "cell_type": "code",
   "execution_count": null,
   "metadata": {},
   "outputs": [],
   "source": [
    "#after standardising the data we check for duplicates\n",
    "#Check for any duplicates\n",
    "uber_db[uber_db.duplicated()].shape"
   ]
  },
  {
   "cell_type": "code",
   "execution_count": null,
   "metadata": {},
   "outputs": [],
   "source": [
    "#calculating journey time\n",
    "uber_db['journey_time']=uber_db['Drop timestamp']-uber_db['Request timestamp']\n",
    "uber_db['journey_hour']=uber_db['journey_time'].apply(lambda x : x.datatime.hours)\n",
    "uber_db['journey_minute']=uber_db['journey_time'].apply(lambda x : x.datatime.minute)\n"
   ]
  },
  {
   "cell_type": "code",
   "execution_count": null,
   "metadata": {},
   "outputs": [],
   "source": [
    "# Extracting Univariate data such as time and date\n",
    "uber_db['request_hour']=uber_db['Request timestamp'].apply(lambda x:x.hour)\n",
    "uber_db['drop_hour']=uber_db['Drop timestamp'].apply(lambda x:x.hour)\n",
    "\n",
    "#Extracting Univariate for further analysis Request\n",
    "uber_db['request_month']=uber_db['Request timestamp'].apply(lambda x: x.month)\n",
    "uber_db['request_day']=uber_db['Request timestamp'].apply(lambda x: x.day)\n",
    "uber_db['request_year']=uber_db['Request timestamp'].apply(lambda x: x.year)\n",
    "\n",
    "#Extracting Univariate for further analysis Drop\n",
    "uber_db['drop_month']=uber_db['Drop timestamp'].apply(lambda x: x.month)\n",
    "uber_db['drop_day']=uber_db['Drop timestamp'].apply(lambda x: x.day)\n",
    "uber_db['drop_year']=uber_db['Drop timestamp'].apply(lambda x: x.year)\n",
    "\n"
   ]
  },
  {
   "cell_type": "code",
   "execution_count": null,
   "metadata": {},
   "outputs": [],
   "source": [
    "#Different datasets for different status \n",
    "#Trip Not Completed\n",
    "uber_null=uber_db[uber_db['Drop timestamp'].astype(str) =='NaT']\n",
    "uber_null.shape\n",
    "\n",
    "#Trip Completed\n",
    "uber_tripcompleted=uber_db[uber_db['Drop timestamp'].astype(str)!='NaT']\n",
    "uber_tripcompleted.shape\n",
    "\n",
    "#No cars Available\n",
    "uber_nocars=uber_db[uber_db['Driver id'].isnull()==True]\n",
    "uber_nocars.shape"
   ]
  },
  {
   "cell_type": "code",
   "execution_count": null,
   "metadata": {},
   "outputs": [],
   "source": [
    "#Plotting data to find outliers\n",
    "#plotting boxplot on journey time o find any outliers\n",
    "import matplotlib.pyplot as plt\n",
    "plt.boxplot(uber_db['journey_time'])\n",
    "uber_db['journey_time'].describe()\n",
    "#Scatter plot\n",
    "plt.scatter(uber_db['request_day'],uber_db['drop_day'])\n",
    "\n",
    "#Histogram on journey hours for calculating peak time in data\n",
    "uber_tripcompleted['journey_hour']=uber_tripcompleted['journey_time'].apply(lambda x:x.datetime.hours)\n",
    "#time series plot\n",
    "import seaborn as sns\n",
    "sns.tsplot(data=uber_tripcompleted['journey_hour'])"
   ]
  },
  {
   "cell_type": "code",
   "execution_count": null,
   "metadata": {},
   "outputs": [],
   "source": [
    "#Checking the spread of the data by scatter plot\n",
    "# to check any outlier that is, is there any data that shows trip time more than 24 hours\n",
    "plt.plot(uber_db['request_day'],uber_db['drop_day'])\n",
    "plt.xlabel(\"Request Day\")\n",
    "plt.ylabel(\"Drop Day\")\n",
    "plt.title(\"Cross checking Request vs Drop\")\n",
    "\n",
    "#Since its positive and all the variables are in boundries, there fore no outliers"
   ]
  },
  {
   "cell_type": "code",
   "execution_count": null,
   "metadata": {},
   "outputs": [],
   "source": [
    "#Checking outliers by using different plots\n",
    "#Inititiating new Figure\n",
    "plt.figure(1)\n",
    "#Creating sublots with 1 row 2 column on 1st\n",
    "plt.subplot(1,2,1)\n",
    "plt.title(\"Request timestamp\")\n",
    "plt.plot(uber_db['Request timestamp'],uber_db['Driver id'])\n",
    "\n",
    "#Creating 2nd Graph\n",
    "plt.subplot(1,2,2)\n",
    "plt.title(\"Drop timestamp\")\n",
    "plt.plot(uber_db['Drop timestamp'],uber_db['Driver id'])"
   ]
  },
  {
   "cell_type": "code",
   "execution_count": null,
   "metadata": {},
   "outputs": [],
   "source": [
    "#PLotting Univariate \n",
    "sns.distplot(uber_db['request_day'],bins=50)\n",
    "#We can see the data distributed normally where as the count is maximum\n",
    "sns.distplot(uber_tripcompleted['drop_day'],bins=50)\n",
    "sns.show\n",
    "\n",
    "#Bivariate\n",
    "uber_db_temp=uber_db[(uber_db.journey_hour < 3) & (uber_db.status='Trip Completed')]\n",
    "sns.jointplot(uber_db['journey_hour'],uber_tripcompleted['drop_hour'],uber_db_temp)\n",
    "plt.show()\n",
    "            "
   ]
  },
  {
   "cell_type": "code",
   "execution_count": null,
   "metadata": {},
   "outputs": [],
   "source": [
    "#Category wise plotting, treating category as driver\n",
    "#Seaborn\n",
    "sns.set(style='white')\n",
    "#Boxplot of var\n",
    "sns.boxplot(y=uber_db['Driver id'])\n",
    "plt.show\n",
    "#Boxplot variable accross driver\n",
    "sns.boxplot(x='Driver id',y='journey_time',data=uber_tripcompleted)\n",
    "plt.show()"
   ]
  },
  {
   "cell_type": "code",
   "execution_count": null,
   "metadata": {},
   "outputs": [],
   "source": [
    "#Time Series plot on drop and journey to find month wise highest \n",
    "#Initially we con verted the data to datetype\n",
    "uber_db['drop_time']=pd.to_datetime(uber_db['drop_time'])\n",
    "#aggregating total journey time day wise\n",
    "journey_data=uber_db.groupby('drop_hour')['journey_time'].sum()\n",
    "print(journey_data.head())\n",
    "\n",
    "#Timeseries plot\n",
    "sns.tsplot(data=journey_data)\n",
    "plt.show()\n",
    "\n",
    "#group by month and year to see the highest \n",
    "journey_data=uber_db.groupby(['drop_month','drop_year']).journey_time.mean()\n",
    "\n",
    "#Combined timeseries data\n",
    "plt.figure(figsize=(8,6))\n",
    "sns.tsplot(journey_data)\n",
    "plt.xlabel(\"Journey time\")\n",
    "plt.ylabel(\"Drop time\")\n",
    "plt.show()"
   ]
  },
  {
   "cell_type": "code",
   "execution_count": null,
   "metadata": {},
   "outputs": [],
   "source": [
    "#Time Series plot on Request and journey to find month wise highest \n",
    "#Initially we con verted the data to datetype\n",
    "uber_db['request_time']=pd.to_datetime(uber_db['request_time'])\n",
    "#aggregating total journey time day wise\n",
    "journey_data=uber_db.groupby('request_hour')['request_time'].sum()\n",
    "print(journey_data.head())\n",
    "\n",
    "#Timeseries plot\n",
    "sns.tsplot(data=journey_data)\n",
    "plt.show()\n",
    "\n",
    "#group by month and year to see the highest \n",
    "journey_data=uber_db.groupby(['request_month','request_year']).journey_time.mean()\n",
    "\n",
    "#Combined timeseries data\n",
    "plt.figure(figsize=(8,6))\n",
    "sns.tsplot(journey_data)\n",
    "plt.xlabel(\"Journey time\")\n",
    "plt.ylabel(\"request time\")\n",
    "plt.show()\n",
    "\n"
   ]
  },
  {
   "cell_type": "code",
   "execution_count": null,
   "metadata": {},
   "outputs": [],
   "source": [
    "#pivot data using month as index \n",
    "df=pd.pivot_table(uber_db,values='journey_time',index='request_year',columns='request_month',aggfunc='mean')\n",
    "\n",
    "#creating Heatmap using data\n",
    "sns.heatmap(df,cmap='Y1GnBu')\n",
    "#Gives output as how journey time is affected on request month\n",
    "\n",
    "\n",
    "\n",
    "#Pivot data using month and Nocars available\n",
    "df=pd.pivot_table(uber_nocars,values='journey_time',index='request_hour',columns='request_day',aggfunc='count')\n",
    "#Heatmap\n",
    "sns.heatmap(df,cmap='Y1GnBu')\n",
    "#Gives Output at what time we got no cars available\n",
    "\n",
    "\n",
    "#pivot data using month and drivers cancelled\n",
    "df=pivot_table(uber_null,values='journey_time',index='request_hour',columns='request_month',aggfunc='count')\n",
    "#Heatmap\n",
    "sns.heatmap(df,cmap='Y1GnBu')\n",
    "#This shows at what time driver cancelled at car"
   ]
  },
  {
   "cell_type": "code",
   "execution_count": null,
   "metadata": {},
   "outputs": [],
   "source": []
  }
 ],
 "metadata": {
  "kernelspec": {
   "display_name": "Python 3",
   "language": "python",
   "name": "python3"
  },
  "language_info": {
   "codemirror_mode": {
    "name": "ipython",
    "version": 3
   },
   "file_extension": ".py",
   "mimetype": "text/x-python",
   "name": "python",
   "nbconvert_exporter": "python",
   "pygments_lexer": "ipython3",
   "version": "3.6.4"
  }
 },
 "nbformat": 4,
 "nbformat_minor": 2
}
